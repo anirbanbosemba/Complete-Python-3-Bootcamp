{
 "cells": [
  {
   "cell_type": "markdown",
   "metadata": {},
   "source": [
    "___\n",
    "\n",
    "<a href='https://www.udemy.com/user/joseportilla/'><img src='../Pierian_Data_Logo.png'/></a>\n",
    "___\n",
    "<center><em>Content Copyright by Pierian Data</em></center>"
   ]
  },
  {
   "cell_type": "markdown",
   "metadata": {},
   "source": [
    "# Milestone Project 1: Walkthrough Steps Workbook\n",
    "\n",
    "Below is a set of steps for you to follow to try to create the Tic Tac Toe Milestone Project game!"
   ]
  },
  {
   "cell_type": "markdown",
   "metadata": {},
   "source": [
    "#### Some suggested tools before you get started:\n",
    "To take input from a user:\n",
    "\n",
    "    player1 = input(\"Please pick a marker 'X' or 'O'\")\n",
    "    \n",
    "Note that input() takes in a string. If you need an integer value, use\n",
    "\n",
    "    position = int(input('Please enter a number'))\n",
    "    \n",
    "<br>To clear the screen between moves:\n",
    "\n",
    "    from IPython.display import clear_output\n",
    "    clear_output()\n",
    "    \n",
    "Note that clear_output() will only work in jupyter. To clear the screen in other IDEs, consider:\n",
    "\n",
    "    print('\\n'*100)\n",
    "    \n",
    "This scrolls the previous board up out of view. Now on to the program!"
   ]
  },
  {
   "cell_type": "markdown",
   "metadata": {},
   "source": [
    "**Step 1: Write a function that can print out a board. Set up your board as a list, where each index 1-9 corresponds with a number on a number pad, so you get a 3 by 3 board representation.**"
   ]
  },
  {
   "cell_type": "code",
   "execution_count": 81,
   "metadata": {},
   "outputs": [],
   "source": [
    "from IPython.display import clear_output\n",
    "\n",
    "def display_board(board):\n",
    "    \n",
    "    clear_output()\n",
    "    print('   |   |    ')\n",
    "    print(' '+board[7]+' |'+' '+board[8]+' |'+' '+board[9])\n",
    "    print('   |   |    ')\n",
    "    print('------------')\n",
    "    print('   |   |    ')\n",
    "    print(' '+board[4]+' |'+' '+board[5]+' |'+' '+board[6])\n",
    "    print('   |   |    ')\n",
    "    print('------------')\n",
    "    print('   |   |    ')\n",
    "    print(' '+board[3]+' |'+' '+board[2]+' |'+' '+board[1])\n",
    "    print('   |   |    ')"
   ]
  },
  {
   "cell_type": "markdown",
   "metadata": {},
   "source": [
    "**TEST Step 1:** run your function on a test version of the board list, and make adjustments as necessary"
   ]
  },
  {
   "cell_type": "code",
   "execution_count": 84,
   "metadata": {},
   "outputs": [
    {
     "name": "stdout",
     "output_type": "stream",
     "text": [
      "   |   |    \n",
      " w | X | O\n",
      "   |   |    \n",
      "------------\n",
      "   |   |    \n",
      "   |   |  \n",
      "   |   |    \n",
      "------------\n",
      "   |   |    \n",
      "   |   |  \n",
      "   |   |    \n"
     ]
    }
   ],
   "source": [
    "test_board = ['#', ' ', ' ', ' ', ' ', ' ', ' ', 'w', 'X', 'O']\n",
    "display_board(test_board)"
   ]
  },
  {
   "cell_type": "markdown",
   "metadata": {},
   "source": [
    "**Step 2: Write a function that can take in a player input and assign their marker as 'X' or 'O'. Think about using *while* loops to continually ask until you get a correct answer.**"
   ]
  },
  {
   "cell_type": "code",
   "execution_count": 117,
   "metadata": {},
   "outputs": [],
   "source": [
    "def player_input():\n",
    "    \n",
    "    choice = ''\n",
    "    acceptable_choice = ['X', 'O']\n",
    "    while choice not in acceptable_choice:\n",
    "        \n",
    "        choice = input(\"Player 1: Please pick a marker 'X' or 'O'\").upper() \n",
    "    \n",
    "    # we are doing the below code to ensure that we capture both player's choice\n",
    "    if choice == 'X':\n",
    "        return ('X','O')\n",
    "    else:\n",
    "        return ('O','X')"
   ]
  },
  {
   "cell_type": "markdown",
   "metadata": {},
   "source": [
    "**TEST Step 2:** run the function to make sure it returns the desired output"
   ]
  },
  {
   "cell_type": "code",
   "execution_count": 112,
   "metadata": {},
   "outputs": [
    {
     "name": "stdout",
     "output_type": "stream",
     "text": [
      "Player1: Please pick a marker 'X' or 'O'x\n"
     ]
    }
   ],
   "source": [
    "player_input()"
   ]
  },
  {
   "cell_type": "markdown",
   "metadata": {},
   "source": [
    "**Step 3: Write a function that takes in the board list object, a marker ('X' or 'O'), and a desired position (number 1-9) and assigns it to the board.**"
   ]
  },
  {
   "cell_type": "code",
   "execution_count": 7,
   "metadata": {},
   "outputs": [],
   "source": [
    "def place_marker(board, marker, position):\n",
    "    \n",
    "    board[position] = marker\n",
    "    return board"
   ]
  },
  {
   "cell_type": "markdown",
   "metadata": {},
   "source": [
    "**TEST Step 3:** run the place marker function using test parameters and display the modified board"
   ]
  },
  {
   "cell_type": "code",
   "execution_count": 8,
   "metadata": {},
   "outputs": [
    {
     "name": "stdout",
     "output_type": "stream",
     "text": [
      "   |   |    \n",
      " X | $ | X\n",
      "   |   |    \n",
      "------------\n",
      "   |   |    \n",
      " O | X | O\n",
      "   |   |    \n",
      "------------\n",
      "   |   |    \n",
      " X | O | X\n",
      "   |   |    \n"
     ]
    }
   ],
   "source": [
    "place_marker(test_board,'$',8)\n",
    "display_board(test_board)"
   ]
  },
  {
   "cell_type": "markdown",
   "metadata": {},
   "source": [
    "**Step 4: Write a function that takes in a board and a mark (X or O) and then checks to see if that mark has won. **"
   ]
  },
  {
   "cell_type": "code",
   "execution_count": 10,
   "metadata": {},
   "outputs": [],
   "source": [
    "def win_check(board, mark):\n",
    "    \n",
    "    return ((board[7] == mark and board[8] == mark and board[9] == mark) or\n",
    "    (board[4] == mark and board[5] == mark and board[6] == mark) or\n",
    "    (board[1] == mark and board[2] == mark and board[3] == mark) or\n",
    "    (board[7] == mark and board[4] == mark and board[1] == mark) or\n",
    "    (board[8] == mark and board[5] == mark and board[2] == mark) or\n",
    "    (board[9] == mark and board[6] == mark and board[3] == mark) or\n",
    "    (board[7] == mark and board[5] == mark and board[3] == mark) or\n",
    "    (board[9] == mark and board[5] == mark and board[1] == mark))"
   ]
  },
  {
   "cell_type": "markdown",
   "metadata": {},
   "source": [
    "**TEST Step 4:** run the win_check function against our test_board - it should return True"
   ]
  },
  {
   "cell_type": "code",
   "execution_count": 11,
   "metadata": {},
   "outputs": [
    {
     "data": {
      "text/plain": [
       "True"
      ]
     },
     "execution_count": 11,
     "metadata": {},
     "output_type": "execute_result"
    }
   ],
   "source": [
    "win_check(test_board,'X')"
   ]
  },
  {
   "cell_type": "markdown",
   "metadata": {},
   "source": [
    "**Step 5: Write a function that uses the random module to randomly decide which player goes first. You may want to lookup random.randint() Return a string of which player went first.**"
   ]
  },
  {
   "cell_type": "code",
   "execution_count": 12,
   "metadata": {},
   "outputs": [],
   "source": [
    "import random\n",
    "\n",
    "def choose_first():\n",
    "    if random.randint(0,1) == 0:\n",
    "        return 'Player 1'\n",
    "    else:\n",
    "        return 'Player 2'"
   ]
  },
  {
   "cell_type": "markdown",
   "metadata": {},
   "source": [
    "**Step 6: Write a function that returns a boolean indicating whether a space on the board is freely available.**"
   ]
  },
  {
   "cell_type": "code",
   "execution_count": 13,
   "metadata": {},
   "outputs": [],
   "source": [
    "def space_check(board, position):\n",
    "    \n",
    "    return board[position] == ' '"
   ]
  },
  {
   "cell_type": "code",
   "execution_count": 23,
   "metadata": {},
   "outputs": [
    {
     "data": {
      "text/plain": [
       "False"
      ]
     },
     "execution_count": 23,
     "metadata": {},
     "output_type": "execute_result"
    }
   ],
   "source": [
    "space_check(test_board,9)"
   ]
  },
  {
   "cell_type": "markdown",
   "metadata": {},
   "source": [
    "**Step 7: Write a function that checks if the board is full and returns a boolean value. True if full, False otherwise.**"
   ]
  },
  {
   "cell_type": "code",
   "execution_count": 14,
   "metadata": {},
   "outputs": [],
   "source": [
    "def full_board_check(board):\n",
    "    \n",
    "    for i in range(1,10):\n",
    "        if space_check(board, i) == True:\n",
    "            return False\n",
    "    return True    "
   ]
  },
  {
   "cell_type": "markdown",
   "metadata": {},
   "source": [
    "**Step 8: Write a function that asks for a player's next position (as a number 1-9) and then uses the function from step 6 to check if it's a free position. If it is, then return the position for later use.**"
   ]
  },
  {
   "cell_type": "code",
   "execution_count": 34,
   "metadata": {},
   "outputs": [],
   "source": [
    "def player_choice(board):\n",
    "    \n",
    "    position = 0\n",
    "    allowable_positions = list(range(1,10))\n",
    "    \n",
    "    while position not in allowable_positions:\n",
    "        p = input('Choose your next position (1-9): ')\n",
    "        if p.isdigit() == False:\n",
    "            print('Position {} is out of range.'.format(p))\n",
    "            position = 0\n",
    "        else:\n",
    "            position = int(p)\n",
    "            if position in allowable_positions and space_check(board,position) == True:\n",
    "                break\n",
    "            else:\n",
    "                print('Position {} is either not available or out of range'.format(position))\n",
    "                position = 0\n",
    "                continue                \n",
    "        \n",
    "    return position"
   ]
  },
  {
   "cell_type": "code",
   "execution_count": 35,
   "metadata": {},
   "outputs": [
    {
     "name": "stdout",
     "output_type": "stream",
     "text": [
      "Choose your next position (1-9): x\n",
      "Position x is out of range.\n",
      "Choose your next position (1-9): 21\n",
      "Position 21 is either not available or out of range\n",
      "Choose your next position (1-9): 9\n",
      "Position 9 is either not available or out of range\n",
      "Choose your next position (1-9): 6\n"
     ]
    },
    {
     "data": {
      "text/plain": [
       "6"
      ]
     },
     "execution_count": 35,
     "metadata": {},
     "output_type": "execute_result"
    }
   ],
   "source": [
    "player_choice(test_board)"
   ]
  },
  {
   "cell_type": "markdown",
   "metadata": {},
   "source": [
    "**Step 9: Write a function that asks the player if they want to play again and returns a boolean True if they do want to play again.**"
   ]
  },
  {
   "cell_type": "code",
   "execution_count": 36,
   "metadata": {},
   "outputs": [],
   "source": [
    "def replay():\n",
    "    \n",
    "    reply = ''\n",
    "    allowable_replies = ['N', 'Y']\n",
    "    \n",
    "    while reply not in allowable_replies:\n",
    "        reply = input('Do you want to play again (Y/N)?').upper()[0]\n",
    "    \n",
    "    return reply == 'Y'"
   ]
  },
  {
   "cell_type": "code",
   "execution_count": 44,
   "metadata": {},
   "outputs": [],
   "source": [
    "def reset():\n",
    "    \n",
    "    return ['#'] + [' '] * 9"
   ]
  },
  {
   "cell_type": "code",
   "execution_count": 106,
   "metadata": {},
   "outputs": [
    {
     "data": {
      "text/plain": [
       "['#', ' ', ' ', ' ', ' ', ' ', ' ', ' ', ' ', ' ']"
      ]
     },
     "execution_count": 106,
     "metadata": {},
     "output_type": "execute_result"
    }
   ],
   "source": [
    "reset()"
   ]
  },
  {
   "cell_type": "markdown",
   "metadata": {
    "collapsed": true
   },
   "source": [
    "**Step 10: Here comes the hard part! Use while loops and the functions you've made to run the game!**"
   ]
  },
  {
   "cell_type": "code",
   "execution_count": 125,
   "metadata": {},
   "outputs": [
    {
     "name": "stdout",
     "output_type": "stream",
     "text": [
      "   |   |    \n",
      " O |   |  \n",
      "   |   |    \n",
      "------------\n",
      "   |   |    \n",
      " X | X | X\n",
      "   |   |    \n",
      "------------\n",
      "   |   |    \n",
      " O |   | O\n",
      "   |   |    \n",
      "Congratulations! Player 1 wins!\n",
      "Do you want to play again (Y/N)?n\n"
     ]
    }
   ],
   "source": [
    "print('Welcome to Tic Tac Toe!')\n",
    "\n",
    "# while True, continue the game\n",
    "while True:\n",
    "    #Reset Initial Game Board and Display\n",
    "  \n",
    "    game_board = reset()\n",
    "        \n",
    "    #Accept Player Input\n",
    "    p1_marker, p2_marker = player_input()\n",
    "       \n",
    "    #Find the turn of the person\n",
    "    turn = choose_first()\n",
    "    print(turn + ' will go first!')\n",
    "    \n",
    "    #play game until no more options left \n",
    "    play_game = input('Begin the game? (Y/N)').upper()[0]\n",
    "    if play_game == 'Y':\n",
    "        game_on = True\n",
    "    else:\n",
    "        game_on = False\n",
    "        \n",
    "    while game_on:\n",
    "        \n",
    "        # If player 1's turn, then player 1 will play\n",
    "        if turn == 'Player 1':\n",
    "                        \n",
    "            position = player_choice(game_board)\n",
    "            game_board = place_marker(game_board, p1_marker, position)\n",
    "            display_board(game_board)\n",
    "            \n",
    "            # Check if player 1 has won\n",
    "            \n",
    "            if win_check(game_board,p1_marker) == True:\n",
    "                display_board(game_board)\n",
    "                print('Congratulations! Player 1 wins!')\n",
    "                game_on = False\n",
    "                break\n",
    "            # Check if board is full \n",
    "            \n",
    "            if full_board_check(game_board) == True:\n",
    "                display_board(game_board)\n",
    "                print('Game is draw!')\n",
    "                game_on = False\n",
    "                break\n",
    "            \n",
    "            turn = 'Player 2'    \n",
    "            \n",
    "        else:\n",
    "            \n",
    "            position = player_choice(game_board)\n",
    "            game_board = place_marker(game_board, p2_marker, position)\n",
    "            display_board(game_board)\n",
    "            \n",
    "            # Check if player 2 has won\n",
    "            \n",
    "            if win_check(game_board,p2_marker) == True:\n",
    "                display_board(game_board)\n",
    "                print('Congratulations! Player 2 wins!')\n",
    "                game_on = False\n",
    "                break   \n",
    "            # Check if board is full \n",
    "            \n",
    "            if full_board_check(game_board) == True:\n",
    "                display_board(game_board)\n",
    "                print('Game is draw!')\n",
    "                game_on = False\n",
    "                break\n",
    "            \n",
    "            turn = 'Player 1' \n",
    "            \n",
    "        \n",
    "        # If player 2's turn, then player 2 will play\n",
    "    if not replay():\n",
    "        break   "
   ]
  },
  {
   "cell_type": "markdown",
   "metadata": {
    "collapsed": true
   },
   "source": [
    "## Good Job!"
   ]
  }
 ],
 "metadata": {
  "kernelspec": {
   "display_name": "Python 3 (ipykernel)",
   "language": "python",
   "name": "python3"
  },
  "language_info": {
   "codemirror_mode": {
    "name": "ipython",
    "version": 3
   },
   "file_extension": ".py",
   "mimetype": "text/x-python",
   "name": "python",
   "nbconvert_exporter": "python",
   "pygments_lexer": "ipython3",
   "version": "3.9.12"
  }
 },
 "nbformat": 4,
 "nbformat_minor": 1
}
